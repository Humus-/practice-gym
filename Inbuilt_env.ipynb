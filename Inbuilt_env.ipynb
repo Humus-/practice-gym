{
 "cells": [
  {
   "cell_type": "code",
   "execution_count": 48,
   "id": "63525855",
   "metadata": {},
   "outputs": [],
   "source": [
    "import gym\n",
    "from gym import envs \n",
    "import numpy as np"
   ]
  },
  {
   "cell_type": "code",
   "execution_count": 39,
   "id": "daaa894e",
   "metadata": {},
   "outputs": [],
   "source": [
    "# env = gym.make('Acrobot-v1')\n",
    "# env.reset()\n",
    "# for _ in range(500):\n",
    "#     env.render()\n",
    "#     env.step(env.action_space.sample())\n",
    "    \n",
    "# 2. To check all env available, uninstalled ones are also shown.\n",
    "# print(envs.registry.all())"
   ]
  },
  {
   "cell_type": "code",
   "execution_count": null,
   "id": "930676e6",
   "metadata": {},
   "outputs": [],
   "source": []
  },
  {
   "cell_type": "code",
   "execution_count": 43,
   "id": "aa1b9b64",
   "metadata": {},
   "outputs": [],
   "source": [
    "env.close()"
   ]
  },
  {
   "cell_type": "code",
   "execution_count": 46,
   "id": "524dcaac",
   "metadata": {},
   "outputs": [],
   "source": [
    "class QAgent:\n",
    "    def __init__(self, observation_space, action_space):\n",
    "#         self.position = initialPos\n",
    "        self.actions = action_space\n",
    "#         self.state_count = states\n",
    "        bucket_count = 20\n",
    "        \n",
    "        self.Q = np.random.uniform(low = -2, high = 0, size = (bucket_count, bucket_count, action_space.n))\n",
    "\n",
    "    def choose_action(self, epsilon):\n",
    "        # Epsilon-greedy polic88y\n",
    "        rand_num = np.random.random()\n",
    "        if epsilon > rand_num: # explore\n",
    "            return np.random.randint(self.actions.n)\n",
    "        else: # exploit\n",
    "            pos = np.flatnonzero(self.Q[self.position, :] == np.max(self.Q[self.position, :]))\n",
    "            return np.random.choice(pos)\n",
    "#             return np.argmax(self.Q[self.position, :])\n",
    "\n",
    "    def update_est(self, action, reward):\n",
    "        self.T[action] += 1\n",
    "        alpha = 1./self.T[action]\n",
    "        self.Q[action] += alpha * (reward - self.Q[action])  # keeps running average of rewards"
   ]
  },
  {
   "cell_type": "code",
   "execution_count": 49,
   "id": "f01e9a51",
   "metadata": {},
   "outputs": [
    {
     "name": "stdout",
     "output_type": "stream",
     "text": [
      "[-1.] [1.]\n",
      "3\n",
      "[0.6  0.07]\n",
      "[-1.2  -0.07]\n",
      "[-0.46652535 -0.00143658] -1.0\n"
     ]
    },
    {
     "ename": "SyntaxError",
     "evalue": "'return' outside function (3583983547.py, line 13)",
     "output_type": "error",
     "traceback": [
      "\u001b[0;36m  File \u001b[0;32m\"/tmp/ipykernel_20473/3583983547.py\"\u001b[0;36m, line \u001b[0;32m13\u001b[0m\n\u001b[0;31m    return\u001b[0m\n\u001b[0m    ^\u001b[0m\n\u001b[0;31mSyntaxError\u001b[0m\u001b[0;31m:\u001b[0m 'return' outside function\n"
     ]
    }
   ],
   "source": [
    "env = gym.make('MountainCarContinuous-v0') # try for different environments\n",
    "print(env.action_space.low, env.action_space.high)\n",
    "env = gym.make('MountainCar-v0') # try for different environments\n",
    "print(env.action_space.n)\n",
    "print(env.observation_space.high)\n",
    "print(env.observation_space.low)\n",
    "env.reset()\n",
    "new_state, reward, done, _ = env.step(0)\n",
    "print(new_state, reward)\n",
    "env.render()\n",
    "env.close()\n",
    "agent = QAgent(env.observation_space, env.action_space)\n",
    "return\n",
    "observation = env.reset()\n",
    "for t in range(100):\n",
    "        env.render()\n",
    "        print(observation)\n",
    "        action = env.action_space.sample()\n",
    "        observation, reward, done, info = env.step(action)\n",
    "        print(observation, reward, done, info)\n",
    "        if done:\n",
    "            print(\"Finished after {} timesteps\".format(t+1))\n",
    "            break"
   ]
  },
  {
   "cell_type": "code",
   "execution_count": 24,
   "id": "e09c2285",
   "metadata": {},
   "outputs": [],
   "source": [
    "env.close()"
   ]
  },
  {
   "cell_type": "code",
   "execution_count": null,
   "id": "a08d7cc5",
   "metadata": {},
   "outputs": [],
   "source": []
  }
 ],
 "metadata": {
  "kernelspec": {
   "display_name": "Python 3 (ipykernel)",
   "language": "python",
   "name": "python3"
  },
  "language_info": {
   "codemirror_mode": {
    "name": "ipython",
    "version": 3
   },
   "file_extension": ".py",
   "mimetype": "text/x-python",
   "name": "python",
   "nbconvert_exporter": "python",
   "pygments_lexer": "ipython3",
   "version": "3.9.13"
  }
 },
 "nbformat": 4,
 "nbformat_minor": 5
}
