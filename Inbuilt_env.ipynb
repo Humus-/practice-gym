{
 "cells": [
  {
   "cell_type": "code",
   "execution_count": 136,
   "id": "63525855",
   "metadata": {},
   "outputs": [],
   "source": [
    "import gym\n",
    "from gym import envs \n",
    "import numpy as np\n",
    "import time"
   ]
  },
  {
   "cell_type": "code",
   "execution_count": 2,
   "id": "daaa894e",
   "metadata": {},
   "outputs": [],
   "source": [
    "# env = gym.make('Acrobot-v1')\n",
    "# env.reset()\n",
    "# for _ in range(500):\n",
    "#     env.render()\n",
    "#     env.step(env.action_space.sample())\n",
    "    \n",
    "# 2. To check all env available, uninstalled ones are also shown.\n",
    "# print(envs.registry.all())"
   ]
  },
  {
   "cell_type": "code",
   "execution_count": null,
   "id": "930676e6",
   "metadata": {},
   "outputs": [],
   "source": []
  },
  {
   "cell_type": "code",
   "execution_count": 5,
   "id": "aa1b9b64",
   "metadata": {},
   "outputs": [],
   "source": [
    "# env.close()"
   ]
  },
  {
   "cell_type": "markdown",
   "id": "b467080a",
   "metadata": {},
   "source": [
    "### Mountain Car env"
   ]
  },
  {
   "cell_type": "code",
   "execution_count": 85,
   "id": "524dcaac",
   "metadata": {},
   "outputs": [],
   "source": [
    "class QAgent:\n",
    "    def __init__(self, observation_space, action_space):\n",
    "#         self.position = initialPos\n",
    "        self.actions = action_space\n",
    "#         self.state_count = states\n",
    "        self.bucket_count = 20\n",
    "        self.bucket_size = (observation_space.high - observation_space.low) / self.bucket_count\n",
    "        self.obs_low = observation_space.low\n",
    "        # initialize Q table\n",
    "        self.Q = np.random.uniform(low = -2, high = 0, size = (self.bucket_count,\n",
    "                                                               self.bucket_count,\n",
    "                                                               action_space.n))\n",
    "\n",
    "    def get_q_idx_from_obs(obs):\n",
    "        pos_bucket = (obs - self.obs_low) // self.bucket_size[0]\n",
    "        vel_bucket = (obs[1] - self.obs_low) // self.bucket_size[1]\n",
    "        \n",
    "        return (pos_bucket, vel_bucket)\n",
    "\n",
    "    def choose_action(self, epsilon, cur_state):\n",
    "        # Epsilon-greedy polic88y\n",
    "        rand_num = np.random.random()\n",
    "        if epsilon > rand_num: # explore\n",
    "            return np.random.randint(self.actions.n)\n",
    "        else: # exploit\n",
    "            bucket = (cur_state - self.obs_low) // self.bucket_size\n",
    "#             vel_bucket = cur_state[1] // self.bucket_size[1]\n",
    "#             print(\"lala\", bucket[0], bucket[1])\n",
    "            bucket = list(map(int, bucket))\n",
    "            self.Q[bucket[0], bucket[1], :]\n",
    "            pos = np.flatnonzero(self.Q[bucket[0], bucket[1], :] ==\n",
    "                                 np.max(self.Q[bucket[0], bucket[1], :]))\n",
    "            return np.random.choice(pos)\n",
    "#             return np.argmax(self.Q[self.position, :])\n",
    "\n",
    "    def update_est(self, alpha, cur_state, action, reward, next_state):\n",
    "#         self.T[action] += 1\n",
    "#         alpha = 1./self.T[action]\n",
    "        bucket_cur = (cur_state - self.obs_low) // self.bucket_size\n",
    "        bucket_cur = list(map(int, bucket_cur))\n",
    "        bucket_next = (next_state - self.obs_low) // self.bucket_size\n",
    "        bucket_next = list(map(int, bucket_next))\n",
    "#         print(f'bucket: {bucket_cur}, action: {action}')\n",
    "\n",
    "        cur_q = self.Q[bucket_cur[0], bucket_cur[1], action]\n",
    "        best_next_q = self.Q[bucket_next[0], bucket_next[1], action]\n",
    "        self.Q[bucket_cur[0], bucket_cur[1], action] += alpha * (reward + best_next_q - cur_q)"
   ]
  },
  {
   "cell_type": "code",
   "execution_count": 86,
   "id": "8afb1d03",
   "metadata": {},
   "outputs": [
    {
     "data": {
      "text/plain": [
       "array([1., 2.])"
      ]
     },
     "execution_count": 86,
     "metadata": {},
     "output_type": "execute_result"
    }
   ],
   "source": [
    "np.array([5, 4]) / [5, 2]"
   ]
  },
  {
   "cell_type": "code",
   "execution_count": 87,
   "id": "d5e28e79",
   "metadata": {},
   "outputs": [],
   "source": [
    "test = QAgent(env.observation_space, env.action_space)"
   ]
  },
  {
   "cell_type": "code",
   "execution_count": 88,
   "id": "fbdfa976",
   "metadata": {},
   "outputs": [
    {
     "data": {
      "text/plain": [
       "array([2])"
      ]
     },
     "execution_count": 88,
     "metadata": {},
     "output_type": "execute_result"
    }
   ],
   "source": [
    "np.flatnonzero(test.Q[0, 0, :] == np.max(test.Q[0, 0, :]))"
   ]
  },
  {
   "cell_type": "code",
   "execution_count": 129,
   "id": "f01e9a51",
   "metadata": {},
   "outputs": [
    {
     "name": "stdout",
     "output_type": "stream",
     "text": [
      "[-1.] [1.]\n",
      "3\n",
      "[0.6  0.07]\n",
      "[-1.2  -0.07]\n",
      "[-0.5198524  -0.00103587] -1.0\n"
     ]
    }
   ],
   "source": [
    "# env = gym.make('MountainCarContinuous-v0') # try for different environments\n",
    "# print(env.action_space.low, env.action_space.high)\n",
    "env = gym.make('MountainCar-v0').env # try for different environments\n",
    "print(env.action_space.n)\n",
    "print(env.observation_space.high)\n",
    "print(env.observation_space.low)\n",
    "env.reset()\n",
    "new_state, reward, done, _ = env.step(0)\n",
    "print(new_state, reward)\n",
    "env.render()\n",
    "env.close()\n",
    "agent = QAgent(env.observation_space, env.action_space)\n",
    "# return\n",
    "alpha = 0.1\n",
    "steps = 250\n",
    "for t in range(steps):\n",
    "    observation = env.reset()\n",
    "    done = False\n",
    "    while not done:\n",
    "        action = agent.choose_action(0.1, observation)\n",
    "        prev_obs = observation\n",
    "        observation, reward, done, info = env.step(action)\n",
    "        agent.update_est(alpha, prev_obs, action, reward, observation)\n",
    "#         print(observation, reward, done, info)"
   ]
  },
  {
   "cell_type": "code",
   "execution_count": 131,
   "id": "e09c2285",
   "metadata": {},
   "outputs": [],
   "source": [
    "env.close()"
   ]
  },
  {
   "cell_type": "code",
   "execution_count": 132,
   "id": "a08d7cc5",
   "metadata": {},
   "outputs": [
    {
     "name": "stdout",
     "output_type": "stream",
     "text": [
      "[0.50541997 0.02346584] -1.0 True {}\n",
      "(0.5054199637973219, 0.023465844526077324)\n"
     ]
    }
   ],
   "source": [
    "observation = env.reset()\n",
    "done = False\n",
    "while not done:\n",
    "    env.render()\n",
    "    time.sleep(0.01)\n",
    "    action = agent.choose_action(0, observation)\n",
    "    prev_obs = observation\n",
    "    observation, reward, done, info = env.step(action)\n",
    "    if done:\n",
    "        print(observation, reward, done, info)\n",
    "env.render()\n",
    "print(env.state)\n",
    "time.sleep(1)\n",
    "env.close()"
   ]
  },
  {
   "cell_type": "code",
   "execution_count": null,
   "id": "bdcdb3bf",
   "metadata": {},
   "outputs": [],
   "source": []
  },
  {
   "cell_type": "markdown",
   "id": "fce6e05c",
   "metadata": {},
   "source": [
    "## Atari breakout"
   ]
  },
  {
   "cell_type": "code",
   "execution_count": 146,
   "id": "ceb70499",
   "metadata": {},
   "outputs": [
    {
     "name": "stdout",
     "output_type": "stream",
     "text": [
      "Action Space        Discrete(4)\n"
     ]
    },
    {
     "ename": "SyntaxError",
     "evalue": "'return' outside function (27262348.py, line 7)",
     "output_type": "error",
     "traceback": [
      "\u001b[0;36m  File \u001b[0;32m\"/tmp/ipykernel_13334/27262348.py\"\u001b[0;36m, line \u001b[0;32m7\u001b[0m\n\u001b[0;31m    return\u001b[0m\n\u001b[0m    ^\u001b[0m\n\u001b[0;31mSyntaxError\u001b[0m\u001b[0;31m:\u001b[0m 'return' outside function\n"
     ]
    }
   ],
   "source": [
    "env = gym.make(\"BreakoutNoFrameskip-v4\" ,render_mode = 'human')\n",
    "# print(\"Observation Space: \", env.observation_space)\n",
    "print(\"Action Space       \", env.action_space)\n",
    "# print(\"Obs Space       \", env.observation_space.shape)\n",
    "obs = env.reset()\n",
    "env.close()\n",
    "return\n",
    "for i in range(1000):\n",
    "    action = env.action_space.sample()\n",
    "    obs, reward, done, info = env.step(action)\n",
    "    print(reward)\n",
    "#     env.render()\n",
    "    time.sleep(0.01)\n",
    "env.close()"
   ]
  },
  {
   "cell_type": "code",
   "execution_count": 140,
   "id": "7e944394",
   "metadata": {},
   "outputs": [],
   "source": [
    "class QAgent:\n",
    "    def __init__(self, observation_space, action_space):\n",
    "#         self.position = initialPos\n",
    "        self.actions = action_space\n",
    "#         self.state_count = states\n",
    "        self.bucket_count = 20\n",
    "        self.bucket_size = (observation_space.high - observation_space.low) / self.bucket_count\n",
    "        self.obs_low = observation_space.low\n",
    "        # initialize Q table\n",
    "        self.Q = np.random.uniform(low = -2, high = 0, size = (self.bucket_count,\n",
    "                                                               self.bucket_count,\n",
    "                                                               action_space.n))\n",
    "\n",
    "    def get_q_idx_from_obs(obs):\n",
    "        pos_bucket = (obs - self.obs_low) // self.bucket_size[0]\n",
    "        vel_bucket = (obs[1] - self.obs_low) // self.bucket_size[1]\n",
    "        \n",
    "        return (pos_bucket, vel_bucket)\n",
    "\n",
    "    def choose_action(self, epsilon, cur_state):\n",
    "        # Epsilon-greedy polic88y\n",
    "        rand_num = np.random.random()\n",
    "        if epsilon > rand_num: # explore\n",
    "            return np.random.randint(self.actions.n)\n",
    "        else: # exploit\n",
    "            bucket = (cur_state - self.obs_low) // self.bucket_size\n",
    "#             vel_bucket = cur_state[1] // self.bucket_size[1]\n",
    "#             print(\"lala\", bucket[0], bucket[1])\n",
    "            bucket = list(map(int, bucket))\n",
    "            self.Q[bucket[0], bucket[1], :]\n",
    "            pos = np.flatnonzero(self.Q[bucket[0], bucket[1], :] ==\n",
    "                                 np.max(self.Q[bucket[0], bucket[1], :]))\n",
    "            return np.random.choice(pos)\n",
    "#             return np.argmax(self.Q[self.position, :])\n",
    "\n",
    "    def update_est(self, alpha, cur_state, action, reward, next_state):\n",
    "#         self.T[action] += 1\n",
    "#         alpha = 1./self.T[action]\n",
    "        bucket_cur = (cur_state - self.obs_low) // self.bucket_size\n",
    "        bucket_cur = list(map(int, bucket_cur))\n",
    "        bucket_next = (next_state - self.obs_low) // self.bucket_size\n",
    "        bucket_next = list(map(int, bucket_next))\n",
    "#         print(f'bucket: {bucket_cur}, action: {action}')\n",
    "\n",
    "        cur_q = self.Q[bucket_cur[0], bucket_cur[1], action]\n",
    "        best_next_q = self.Q[bucket_next[0], bucket_next[1], action]\n",
    "        self.Q[bucket_cur[0], bucket_cur[1], action] += alpha * (reward + best_next_q - cur_q)"
   ]
  },
  {
   "cell_type": "code",
   "execution_count": null,
   "id": "ddc1dd50",
   "metadata": {},
   "outputs": [],
   "source": []
  }
 ],
 "metadata": {
  "kernelspec": {
   "display_name": "Python 3 (ipykernel)",
   "language": "python",
   "name": "python3"
  },
  "language_info": {
   "codemirror_mode": {
    "name": "ipython",
    "version": 3
   },
   "file_extension": ".py",
   "mimetype": "text/x-python",
   "name": "python",
   "nbconvert_exporter": "python",
   "pygments_lexer": "ipython3",
   "version": "3.9.13"
  }
 },
 "nbformat": 4,
 "nbformat_minor": 5
}
