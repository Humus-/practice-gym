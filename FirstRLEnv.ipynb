{
 "cells": [
  {
   "cell_type": "code",
   "execution_count": 67,
   "id": "ebd89f85",
   "metadata": {},
   "outputs": [
    {
     "data": {
      "text/plain": [
       "<matplotlib.pyplot._IonContext at 0x7f5060329670>"
      ]
     },
     "execution_count": 67,
     "metadata": {},
     "output_type": "execute_result"
    }
   ],
   "source": [
    "import gym\n",
    "from gym import Env\n",
    "import time\n",
    "\n",
    "%matplotlib inline\n",
    "import numpy as np\n",
    "import matplotlib.pyplot as plt\n",
    "from matplotlib.patches import Rectangle\n",
    "from IPython.display import clear_output\n",
    "from enum import Enum\n",
    "import cv2 as cv\n",
    "\n",
    "plt.ion()"
   ]
  },
  {
   "cell_type": "code",
   "execution_count": 62,
   "id": "1f1af696",
   "metadata": {},
   "outputs": [],
   "source": [
    "from matplotlib import animation\n"
   ]
  },
  {
   "cell_type": "code",
   "execution_count": 71,
   "id": "7196b568",
   "metadata": {},
   "outputs": [],
   "source": [
    "class GameEnvV1(Env):\n",
    "    def __init__(self, m, n, initial_pos):\n",
    "        super(GameEnvV1, self).__init__()\n",
    "        self.grid = np.zeros(tuple([m, n]))\n",
    "        self.rows = m;\n",
    "        self.cols = n;\n",
    "        self.action_space = {  # agent position is a number between 1 and m * n \n",
    "            'Up': -self.cols,   # moving up makes us move across m cells (if they were laid out in a line)\n",
    "            'Down': self.cols,\n",
    "            'Left': -1,\n",
    "            'Right': 1,\n",
    "            'Stall': 0}\n",
    "        #self.T = np.zeros(self.action_space) # action counts\n",
    "        #self.est_values = np.zeros(self.action_space) # value Q(a)\n",
    "        self.reward = {  # 4 rewards.\n",
    "            (m - 1, n - 1): 10,\n",
    "            (1, 1): -1,\n",
    "            (0, 2): 1,\n",
    "            (2, 1): 3\n",
    "        }\n",
    "        self.grid[self.get_coordinate_from_position(initial_pos)] = 5\n",
    "        for reward_loc in self.reward.keys():\n",
    "            if self.reward[reward_loc] > 2:\n",
    "                self.grid[reward_loc] = 10 * self.reward[reward_loc] \n",
    "        self.agent_position = initial_pos\n",
    "\n",
    "    def get_coordinate_from_position(self, pos):\n",
    "        m = pos // self.cols\n",
    "        n = pos % self.cols\n",
    "        return (m, n)\n",
    "\n",
    "    def is_action_possible(self, action):  # might not be needed. Added for later convenience \n",
    "#         print(f'is possible? {action}')\n",
    "        if action not in self.action_space.keys():\n",
    "            return False;\n",
    "\n",
    "        if self.agent_position % self.cols == 0 and action == 'Left':\n",
    "            # can't move left as we are at the edge\n",
    "            return False;\n",
    "        \n",
    "        if self.agent_position % self.cols == self.cols - 1 and action == 'Right':\n",
    "            # can't move right as we are at the edge\n",
    "            return False;\n",
    "        \n",
    "        if self.agent_position % self.rows == 0 and action == 'Up':\n",
    "            # can't move up as we are at the 1st row\n",
    "            return False;\n",
    "        \n",
    "        if self.agent_position % self.rows == self.rows - 1 and action == 'Down':\n",
    "            # can't move down as we are at the last row\n",
    "            return False;\n",
    "        \n",
    "        return True;\n",
    "    \n",
    "    def step(self, action):\n",
    "        if not self.is_action_possible(action):\n",
    "            return self.grid, 0, False, {};\n",
    "        \n",
    "        self.grid[self.get_coordinate_from_position(self.agent_position)] = 0\n",
    "        self.agent_position += self.action_space[action];\n",
    "        self.grid[self.get_coordinate_from_position(self.agent_position)] = 5\n",
    "\n",
    "        reward = -1\n",
    "        m, n = self.get_coordinate_from_position(self.agent_position)\n",
    "        if (m, n) in self.reward:\n",
    "            reward = self.reward[(m, n)];\n",
    "\n",
    "        terminal = False;\n",
    "        if self.agent_position == self.rows * self.cols - 1:\n",
    "            terminal = True;\n",
    "\n",
    "        return self.grid, reward, terminal, {}\n",
    "\n",
    "    def update_est(self, action, reward):\n",
    "        self.T[action] += 1\n",
    "        alpha = 1./self.T[action]\n",
    "        self.est_values[action] += alpha * (reward - self.est_values[action])  # keeps running average of rewards\n",
    "\n",
    "    def reset(self):\n",
    "        self.agent_position = 0\n",
    "\n",
    "    def render(self):\n",
    "        clear_output(wait = True)\n",
    "        plt.imshow(self.grid)\n",
    "        plt.show()\n",
    "        # using open cv below. But it is getting too time consuming for more than 3 many elements\n",
    "#         img_rows, img_cols = (501, 501)\n",
    "#         rows, cols = (4, 4)\n",
    "\n",
    "#         x = np.linspace(start=0, stop=img_rows - 1, num=rows + 1)\n",
    "#         y = np.linspace(start=0, stop=img_cols - 1, num=cols + 1)\n",
    "\n",
    "#         for line_pos in x:\n",
    "#             x1 = int(line_pos)\n",
    "#             y1 = 0\n",
    "#             y2 = img_rows - 1\n",
    "#             cv.line(newMat_3ch, (x1,y1), (x1, y2), (0,0,255),1 )  # img, start, end, col, thickness\n",
    "\n",
    "#         for line_pos in y:\n",
    "#             x1 = 0\n",
    "#             y1 = int(line_pos)\n",
    "#             x2 = img_cols - 1\n",
    "#             cv.line(newMat_3ch, (x1, y1), (x2, y1), (255,0,0), 1)\n",
    "\n",
    "#         cv.namedWindow('newMat_3ch',0)\n",
    "#         cv.imshow('newMat_3ch', newMat_3ch)\n",
    "#         cv.waitKey(0)\n",
    "#         cv.destroyAllWindows()\n",
    "        "
   ]
  },
  {
   "cell_type": "code",
   "execution_count": 3,
   "id": "8dd24fe2",
   "metadata": {},
   "outputs": [],
   "source": [
    "def draw_grid(img, grid_shape, color=(0, 255, 0), thickness=1):\n",
    "    h, w, _ = (250, 250, 0)\n",
    "    rows, cols = grid_shape\n",
    "    dy, dx = h / rows, w / cols\n",
    "\n",
    "    # draw vertical lines\n",
    "    for x in np.linspace(start=dx, stop=w-dx, num=cols-1):\n",
    "        x = int(round(x))\n",
    "        cv.line(img, (x, 0), (x, h), color=color, thickness=thickness)\n",
    "\n",
    "    # draw horizontal lines\n",
    "    for y in np.linspace(start=dy, stop=h-dy, num=rows-1):\n",
    "        y = int(round(y))\n",
    "        cv.line(img, (0, y), (w, y), color=color, thickness=thickness)\n",
    "\n",
    "    return img"
   ]
  },
  {
   "cell_type": "code",
   "execution_count": 4,
   "id": "8f2f3ee3",
   "metadata": {},
   "outputs": [],
   "source": [
    "cv.destroyAllWindows()"
   ]
  },
  {
   "cell_type": "code",
   "execution_count": 5,
   "id": "50ef3f66",
   "metadata": {},
   "outputs": [],
   "source": [
    "class RandomAgent:\n",
    "    def __init__(self, initialPosition, actions):\n",
    "        self.position = initialPosition\n",
    "        self.actions = actions\n",
    "\n",
    "    def get_step(self):\n",
    "        index =  np.random.choice(len(self.actions)) #takes a random number from the action space we created\n",
    "#         print(self.actions)\n",
    "        return self.actions[index]\n",
    "\n",
    "    def choose_action(self, epsilon):\n",
    "        # Epsilon-greedy policy\n",
    "        return np.random.choice(self.action_space);\n",
    "        # ignore below. Not working for now\n",
    "        rand_num = np.random.random()\n",
    "        if epsilon > rand_num: # explore\n",
    "            return np.random.randint(self.action_space)\n",
    "        else: # exploit\n",
    "            return np.argmax(self.est_values)\n"
   ]
  },
  {
   "cell_type": "code",
   "execution_count": 82,
   "id": "bf4f3ef2",
   "metadata": {},
   "outputs": [],
   "source": [
    "def trainAgent(bandit, env, steps, epsilon):\n",
    "    history = []\n",
    "    for i in range(steps):\n",
    "        action = bandit.get_step()\n",
    "        state, reward, terminal, info = env.step(action)\n",
    "        if terminal:\n",
    "            print('Terminal state reached')\n",
    "            break;\n",
    "        history.append(f'State: {env.agent_position}, action: {action}, Reward: {reward}\\n')\n",
    "        time.sleep(1)\n",
    "        env.render() # prints the current state in which the agent arrived \n",
    "        #R = bandit.get_reward(action)\n",
    "        #bandit.update_est(action, R)\n",
    "        #history.append(R)\n",
    "    #return np.array(history)\n",
    "    for line in history:\n",
    "        print(line)"
   ]
  },
  {
   "cell_type": "code",
   "execution_count": null,
   "id": "28cf6cf8",
   "metadata": {},
   "outputs": [],
   "source": []
  },
  {
   "cell_type": "code",
   "execution_count": 83,
   "id": "5419c7a9",
   "metadata": {},
   "outputs": [
    {
     "data": {
      "image/png": "[encoded data removed]",
      "text/plain": [
       "<Figure size 640x480 with 1 Axes>"
      ]
     },
     "metadata": {},
     "output_type": "display_data"
    },
    {
     "name": "stdout",
     "output_type": "stream",
     "text": [
      "['State: 1, action: Right, Reward: -1\\n', 'State: 2, action: Right, Reward: 1\\n', 'State: 3, action: Right, Reward: -1\\n', 'State: 3, action: Down, Reward: 0\\n', 'State: 3, action: Right, Reward: 0\\n', 'State: 3, action: Down, Reward: 0\\n', 'State: 3, action: Stall, Reward: -1\\n', 'State: 3, action: Stall, Reward: -1\\n', 'State: 2, action: Left, Reward: 1\\n', 'State: -2, action: Up, Reward: -1\\n']\n"
     ]
    }
   ],
   "source": [
    "initial_pos = 0;\n",
    "env = GameEnvV1(4, 4, initial_pos)\n",
    "print(env.grid)\n",
    "agent = RandomAgent(initial_pos, list(env.action_space.keys()))\n",
    "env.reset()\n",
    "print(\" DETERMINISTIC ENVIRONMENT \")\n",
    "env.render()\n",
    "print(\"*********\\n\")\n",
    "trainAgent(agent, env, 10, 0.1)\n",
    "# env.render()"
   ]
  },
  {
   "cell_type": "code",
   "execution_count": 70,
   "id": "7aed9c87",
   "metadata": {},
   "outputs": [],
   "source": [
    "class GameEnvV2(GameEnvV1):\n",
    "    def step(self, action):\n",
    "        if not self.is_action_possible(action):\n",
    "            return 0, False;\n",
    "        if np.random.choice(4) == 0:\n",
    "            action = 'Stall'\n",
    "        self.agent_position += self.action_space[action];\n",
    "        print(action, self.agent_position)\n",
    "        \n",
    "        reward = -1\n",
    "        m = self.agent_position // self.cols\n",
    "        n = self.agent_position % self.cols\n",
    "        if (m, n) in self.reward:\n",
    "            reward = self.reward[(m, n)];\n",
    "            \n",
    "        terminal = False;\n",
    "        if self.agent_position == self.rows * self.cols - 1:\n",
    "            terminal = True;\n",
    "\n",
    "        return reward, terminal"
   ]
  },
  {
   "cell_type": "code",
   "execution_count": 71,
   "id": "d73f809f",
   "metadata": {},
   "outputs": [
    {
     "name": "stdout",
     "output_type": "stream",
     "text": [
      " STOCHASTIC ENVIRONMENT \n",
      "*********\n",
      "\n",
      "Right\n",
      "Reward for this step -  -1\n",
      "Up\n",
      "Reward for this step -  -1\n",
      "Right\n",
      "Reward for this step -  -1\n",
      "Stall\n",
      "Reward for this step -  -1\n",
      "Left\n",
      "Reward for this step -  -1\n",
      "Right\n",
      "Reward for this step -  -1\n",
      "Left\n",
      "Reward for this step -  -1\n",
      "Stall\n",
      "Reward for this step -  -1\n",
      "Right\n",
      "Reward for this step -  -1\n",
      "Left\n",
      "Reward for this step -  -1\n"
     ]
    },
    {
     "data": {
      "image/png": "[encoded data removed]",
      "text/plain": [
       "<Figure size 640x480 with 1 Axes>"
      ]
     },
     "metadata": {},
     "output_type": "display_data"
    }
   ],
   "source": [
    "env = GameEnvV2(4, 4, 2)\n",
    "agent = RandomAgent(env)\n",
    "env.reset()\n",
    "print(\" STOCHASTIC ENVIRONMENT \")\n",
    "env.render()\n",
    "print(\"*********\\n\")\n",
    "trainAgent(agent, env, 10, 0.1)"
   ]
  },
  {
   "cell_type": "code",
   "execution_count": null,
   "id": "2d048997",
   "metadata": {},
   "outputs": [],
   "source": []
  }
 ],
 "metadata": {
  "kernelspec": {
   "display_name": "Python 3 (ipykernel)",
   "language": "python",
   "name": "python3"
  },
  "language_info": {
   "codemirror_mode": {
    "name": "ipython",
    "version": 3
   },
   "file_extension": ".py",
   "mimetype": "text/x-python",
   "name": "python",
   "nbconvert_exporter": "python",
   "pygments_lexer": "ipython3",
   "version": "3.9.13"
  }
 },
 "nbformat": 4,
 "nbformat_minor": 5
}
