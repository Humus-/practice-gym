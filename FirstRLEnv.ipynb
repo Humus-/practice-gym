{
 "cells": [
  {
   "cell_type": "code",
   "execution_count": 1,
   "id": "ebd89f85",
   "metadata": {},
   "outputs": [],
   "source": [
    "import gym\n",
    "from gym import Env\n",
    "from gym.spaces import Discrete\n",
    "import time\n",
    "\n",
    "%matplotlib inline\n",
    "import numpy as np\n",
    "import matplotlib.pyplot as plt\n",
    "from matplotlib.patches import Rectangle\n",
    "from IPython.display import clear_output\n",
    "from enum import Enum\n",
    "import cv2 as cv\n",
    "\n",
    "# plt.ion()"
   ]
  },
  {
   "cell_type": "code",
   "execution_count": 82,
   "id": "7196b568",
   "metadata": {},
   "outputs": [],
   "source": [
    "class GameEnvV1(Env):\n",
    "    def __init__(self, m, n, initial_pos):\n",
    "        super(GameEnvV1, self).__init__()\n",
    "        self.grid = np.zeros(tuple([m, n]))\n",
    "        self.rows = m;\n",
    "        self.cols = n;\n",
    "        # should have just used Discrete type here.\n",
    "        self.action_space = {  # agent position is a number between 1 and m * n \n",
    "            'Up': -self.cols,   # moving up makes us move across m cells (if they were laid out in a line)\n",
    "            'Down': self.cols,\n",
    "            'Left': -1,\n",
    "            'Right': 1,\n",
    "            'Stall': 0}\n",
    "        #self.T = np.zeros(self.action_space) # action counts\n",
    "        self.reward = {  # 4 rewards.\n",
    "            (m - 1, n - 1): 10,\n",
    "            (1, 1): -1,\n",
    "            (0, 2): 1,\n",
    "            (2, 1): 3\n",
    "        }\n",
    "        self.used_reward = []\n",
    "        self.agent_position = initial_pos\n",
    "        self.set_grid_values();\n",
    "\n",
    "    def get_coordinate_from_position(self, pos):\n",
    "        m = pos // self.cols\n",
    "        n = pos % self.cols\n",
    "        return (m, n)\n",
    "    \n",
    "    def set_grid_values(self):\n",
    "        self.grid = np.zeros(tuple([self.rows, self.cols]))\n",
    "        self.grid[self.get_coordinate_from_position(self.agent_position)] = 2\n",
    "        for reward_loc in self.reward.keys():\n",
    "            self.grid[reward_loc] = 5 * self.reward[reward_loc]\n",
    "\n",
    "    def is_action_possible(self, action):  # might not be needed. Added for later convenience \n",
    "#         print(f'is possible? {action}')\n",
    "        if action not in self.action_space.keys():\n",
    "            return False;\n",
    "\n",
    "        if self.agent_position % self.cols == 0 and action == 'Left':\n",
    "            # can't move left as we are at the edge\n",
    "            return False;\n",
    "        \n",
    "        if self.agent_position % self.cols == self.cols - 1 and action == 'Right':\n",
    "            # can't move right as we are at the edge\n",
    "            return False;\n",
    "        \n",
    "        if self.agent_position // self.cols == 0 and action == 'Up':\n",
    "            # can't move up as we are at the 1st row\n",
    "            return False;\n",
    "        \n",
    "        if self.agent_position // self.cols == self.rows - 1 and action == 'Down':\n",
    "            # can't move down as we are at the last row\n",
    "            return False;\n",
    "        \n",
    "        return True;\n",
    "\n",
    "    def step(self, action):\n",
    "        if not self.is_action_possible(action):\n",
    "            return self.agent_position, -1, False, {};\n",
    "\n",
    "        self.grid[self.get_coordinate_from_position(self.agent_position)] = 0\n",
    "        self.agent_position += self.action_space[action];\n",
    "        self.grid[self.get_coordinate_from_position(self.agent_position)] = 5\n",
    "\n",
    "        reward = -1\n",
    "        m, n = self.get_coordinate_from_position(self.agent_position)\n",
    "        if (m, n) in self.reward and (m, n) not in self.used_reward:\n",
    "            reward = self.reward[(m, n)]\n",
    "            self.used_reward.append((m, n));\n",
    "#             print(f'reward: {reward}, pos: {(m, n)}, used: {self.used_reward}')\n",
    "\n",
    "        terminal = False;\n",
    "        if self.agent_position == self.rows * self.cols - 1:\n",
    "            terminal = True;\n",
    "\n",
    "        return self.agent_position, reward, terminal, {}\n",
    "\n",
    "    def update_est(self, action, reward):\n",
    "        self.T[action] += 1\n",
    "        alpha = 1./self.T[action]\n",
    "        self.est_values[action] += alpha * (reward - self.est_values[action])  # keeps running average of rewards\n",
    "\n",
    "    def reset(self):\n",
    "        self.agent_position = 0\n",
    "        self.set_grid_values()\n",
    "        self.used_reward = []\n",
    "\n",
    "    def render(self):\n",
    "        clear_output(wait = True)\n",
    "        plt.imshow(self.grid)\n",
    "        plt.show()\n",
    "        # using open cv below. But it is getting too time consuming for more than 3 many elements\n",
    "#         img_rows, img_cols = (501, 501)\n",
    "#         rows, cols = (4, 4)\n",
    "\n",
    "#         x = np.linspace(start=0, stop=img_rows - 1, num=rows + 1)\n",
    "#         y = np.linspace(start=0, stop=img_cols - 1, num=cols + 1)\n",
    "\n",
    "#         for line_pos in x:\n",
    "#             x1 = int(line_pos)\n",
    "#             y1 = 0\n",
    "#             y2 = img_rows - 1\n",
    "#             cv.line(newMat_3ch, (x1,y1), (x1, y2), (0,0,255),1 )  # img, start, end, col, thickness\n",
    "\n",
    "#         for line_pos in y:\n",
    "#             x1 = 0\n",
    "#             y1 = int(line_pos)\n",
    "#             x2 = img_cols - 1\n",
    "#             cv.line(newMat_3ch, (x1, y1), (x2, y1), (255,0,0), 1)\n",
    "\n",
    "#         cv.namedWindow('GridWorld',0)\n",
    "#         cv.imshow('GridWorld', newMat_3ch)\n",
    "#         cv.waitKey(0)\n",
    "#         cv.destroyAllWindows()\n",
    "        "
   ]
  },
  {
   "cell_type": "code",
   "execution_count": 83,
   "id": "8dd24fe2",
   "metadata": {},
   "outputs": [],
   "source": [
    "def draw_grid(img, grid_shape, color=(0, 255, 0), thickness=1):\n",
    "    h, w, _ = (250, 250, 0)\n",
    "    rows, cols = grid_shape\n",
    "    dy, dx = h / rows, w / cols\n",
    "\n",
    "    # draw vertical lines\n",
    "    for x in np.linspace(start=dx, stop=w-dx, num=cols-1):\n",
    "        x = int(round(x))\n",
    "        cv.line(img, (x, 0), (x, h), color=color, thickness=thickness)\n",
    "\n",
    "    # draw horizontal lines\n",
    "    for y in np.linspace(start=dy, stop=h-dy, num=rows-1):\n",
    "        y = int(round(y))\n",
    "        cv.line(img, (0, y), (w, y), color=color, thickness=thickness)\n",
    "\n",
    "    return img"
   ]
  },
  {
   "cell_type": "code",
   "execution_count": 4,
   "id": "8f2f3ee3",
   "metadata": {},
   "outputs": [],
   "source": [
    "cv.destroyAllWindows()"
   ]
  },
  {
   "cell_type": "code",
   "execution_count": 5,
   "id": "50ef3f66",
   "metadata": {},
   "outputs": [],
   "source": [
    "class RandomAgent:\n",
    "    def __init__(self, initialPosition, actions):\n",
    "        self.position = initialPosition\n",
    "        self.actions = actions\n",
    "\n",
    "    def get_step(self):\n",
    "        index =  np.random.choice(len(self.actions)) #takes a random number from the action space we created\n",
    "#         print(self.actions)\n",
    "        return self.actions[index]\n",
    "\n",
    "    def choose_action(self, epsilon):\n",
    "        # Epsilon-greedy policy\n",
    "        return np.random.choice(self.action_space);\n",
    "        # ignore below. Not working for now\n",
    "        rand_num = np.random.random()\n",
    "        if epsilon > rand_num: # explore\n",
    "            return np.random.randint(self.action_space)\n",
    "        else: # exploit\n",
    "            return np.argmax(self.est_values)\n"
   ]
  },
  {
   "cell_type": "code",
   "execution_count": 6,
   "id": "cdd1ed7a",
   "metadata": {},
   "outputs": [
    {
     "data": {
      "text/plain": [
       "1"
      ]
     },
     "execution_count": 6,
     "metadata": {},
     "output_type": "execute_result"
    }
   ],
   "source": [
    "a = Discrete(5)\n",
    "np.random.randint(a.n)\n",
    "# a.n"
   ]
  },
  {
   "cell_type": "code",
   "execution_count": 38,
   "id": "82ecc1b8",
   "metadata": {},
   "outputs": [
    {
     "data": {
      "text/plain": [
       "4"
      ]
     },
     "execution_count": 38,
     "metadata": {},
     "output_type": "execute_result"
    }
   ],
   "source": [
    "np.random.choice([1 ,2 , 4,5 ])"
   ]
  },
  {
   "cell_type": "code",
   "execution_count": 39,
   "id": "e88a5e70",
   "metadata": {},
   "outputs": [],
   "source": [
    "class QAgent:\n",
    "    def __init__(self, initialPos, states, action_space):\n",
    "        self.position = initialPos\n",
    "        self.actions = Discrete(action_space)\n",
    "        self.state_count = states\n",
    "        self.Q = np.zeros((self.state_count, self.actions.n))\n",
    "\n",
    "    def choose_action(self, epsilon):\n",
    "        # Epsilon-greedy polic88y\n",
    "        rand_num = np.random.random()\n",
    "        if epsilon > rand_num: # explore\n",
    "            return np.random.randint(self.actions.n)\n",
    "        else: # exploit\n",
    "            pos = np.flatnonzero(self.Q[self.position, :] == np.max(self.Q[self.position, :]))\n",
    "            return np.random.choice(pos)\n",
    "#             return np.argmax(self.Q[self.position, :])\n",
    "\n",
    "    def update_est(self, action, reward):\n",
    "        self.T[action] += 1\n",
    "        alpha = 1./self.T[action]\n",
    "        self.Q[action] += alpha * (reward - self.Q[action])  # keeps running average of rewards"
   ]
  },
  {
   "cell_type": "code",
   "execution_count": 9,
   "id": "bf4f3ef2",
   "metadata": {},
   "outputs": [],
   "source": [
    "def trainAgent(bandit, env, steps, epsilon):\n",
    "    history = []\n",
    "    for i in range(steps):\n",
    "        action = bandit.get_step()\n",
    "        state, reward, terminal, info = env.step(action)\n",
    "        if terminal:\n",
    "            print('Terminal state reached')\n",
    "            break;\n",
    "        history.append(f'State: {env.agent_position}, action: {action}, Reward: {reward}\\n')\n",
    "        time.sleep(1)\n",
    "        env.render() # prints the current state in which the agent arrived \n",
    "        #R = bandit.get_reward(action)\n",
    "        #bandit.update_est(action, R)\n",
    "        #history.append(R)\n",
    "    #return np.array(history)\n",
    "    for line in history:\n",
    "        print(line)"
   ]
  },
  {
   "cell_type": "code",
   "execution_count": null,
   "id": "97af1259",
   "metadata": {},
   "outputs": [],
   "source": []
  },
  {
   "cell_type": "code",
   "execution_count": 86,
   "id": "b8e357a3",
   "metadata": {},
   "outputs": [],
   "source": [
    "def q_learning(bandit, env, steps, epsilon, alpha, gama):\n",
    "    history = []\n",
    "    state_count = env.rows * env.cols\n",
    "#     action_count = len(env.action_space.keys())\n",
    "#     q_table = np.random.rand(state_count, action_count)  # init Q table with random values\n",
    "#     q_table[state_count - 1, :] = 0  # init terminal state with 0\n",
    "\n",
    "#     epsilon = 0.5\n",
    "    for step in range(steps):\n",
    "#         print(f'Step: {step}')\n",
    "#         if step % 2 == 0 and step != 0:\n",
    "#             epsilon = epsilon - 0.1\n",
    "#             epsilon = 0.1 if epsilon <= 0 else epsilon\n",
    "        env.reset()\n",
    "        random_pos = np.random.randint(state_count)\n",
    "        env.agent_position = random_pos\n",
    "        agent.position = random_pos\n",
    "        curr_moves = 0\n",
    "        while agent.position != (env.rows * env.cols) - 1: # iterate till terminal state\n",
    "            action_idx = bandit.choose_action(epsilon)\n",
    "            action = list(env.action_space.keys())[action_idx]\n",
    "            pos, reward, terminal, info = env.step(action)\n",
    "            old_pos = agent.position\n",
    "            agent.position = pos\n",
    "            q_val = agent.Q[old_pos, action_idx]\n",
    "            q_max = np.max(agent.Q[pos, :])\n",
    "            agent.Q[old_pos, action_idx] = q_val + alpha * (reward + gama * q_max - q_val)\n",
    "#             print(f'action: {action}, pos: {pos}, reward: {reward}, epsilon: {epsilon}, Q: {agent.Q}')\n",
    "            curr_moves += 1\n",
    "            if curr_moves > 10:\n",
    "                break\n",
    "    return bandit"
   ]
  },
  {
   "cell_type": "code",
   "execution_count": 87,
   "id": "26692287",
   "metadata": {},
   "outputs": [
    {
     "data": {
      "image/png": "[encoded data removed]",
      "text/plain": [
       "<Figure size 640x480 with 1 Axes>"
      ]
     },
     "metadata": {},
     "output_type": "display_data"
    },
    {
     "name": "stdout",
     "output_type": "stream",
     "text": [
      "*********\n",
      "\n"
     ]
    }
   ],
   "source": [
    "initial_pos = 0;\n",
    "env = GameEnvV1(4, 4, initial_pos)\n",
    "state_space = env.rows * env.cols\n",
    "agent = QAgent(initial_pos, state_space, len(list(env.action_space.keys())))\n",
    "env.reset()\n",
    "print(\" DETERMINISTIC ENVIRONMENT \")\n",
    "env.render()\n",
    "print(\"*********\\n\")\n",
    "agent = q_learning(agent, env, 500, 0.1, 0.1, 0.9)\n",
    "# env.render()"
   ]
  },
  {
   "cell_type": "code",
   "execution_count": 88,
   "id": "c034dbfe",
   "metadata": {
    "scrolled": true
   },
   "outputs": [
    {
     "data": {
      "text/plain": [
       "array([[-0.58519851,  3.66978321, -0.64728794, -0.57568826, -0.72805907],\n",
       "       [-0.38766465,  5.46510445, -0.3131209 , -0.29821684, -0.29701   ],\n",
       "       [-0.58519851,  3.75741512, -0.56194395, -0.27710254, -0.57836018],\n",
       "       [-0.199     ,  5.99095434,  0.33567532, -0.199     , -0.199     ],\n",
       "       [-0.26263828,  6.43256742,  0.06027917, -0.35295786, -0.3940399 ],\n",
       "       [ 0.18582812,  8.29849326,  0.15131897,  1.33464407,  0.23172537],\n",
       "       [ 0.36845362,  6.17166301,  0.89857489, -0.19      , -0.1505505 ],\n",
       "       [-0.20394125,  7.99819841,  0.4038544 ,  0.92002315,  1.10343233],\n",
       "       [-0.28538199, -0.07605695,  1.51844489,  8.31895111,  0.96218986],\n",
       "       [ 2.45586638,  2.79692221,  3.11078031,  6.2       ,  0.46930941],\n",
       "       [ 1.43701466,  5.17161324,  2.60734601,  8.        ,  3.95241897],\n",
       "       [ 4.07280047, 10.        ,  3.46326916,  4.86563627,  5.21057179],\n",
       "       [ 5.87176734, -0.02991503, -0.3940399 , -0.30754722,  0.05367409],\n",
       "       [ 7.63699425, -0.15148552, -0.1       ,  1.58115227,  0.2525363 ],\n",
       "       [-0.07761817, -0.1       , -0.1       ,  9.90302263,  0.48123208],\n",
       "       [ 0.        ,  0.        ,  0.        ,  0.        ,  0.        ]])"
      ]
     },
     "execution_count": 88,
     "metadata": {},
     "output_type": "execute_result"
    }
   ],
   "source": [
    "agent.Q"
   ]
  },
  {
   "cell_type": "code",
   "execution_count": 89,
   "id": "a5bd1867",
   "metadata": {},
   "outputs": [
    {
     "data": {
      "image/png": "[encoded data removed]",
      "text/plain": [
       "<Figure size 640x480 with 1 Axes>"
      ]
     },
     "metadata": {},
     "output_type": "display_data"
    }
   ],
   "source": [
    "env.reset()\n",
    "env.render()\n",
    "agent.position = env.agent_position\n",
    "max_moves = 20\n",
    "while agent.position != (env.rows * env.cols) - 1 and max_moves > 0:\n",
    "    action_idx = agent.choose_action(0)\n",
    "    action = list(env.action_space.keys())[action_idx]\n",
    "    pos, reward, terminal, info = env.step(action)\n",
    "    agent.position = pos\n",
    "    print(f'Action taken: {action}')\n",
    "    time.sleep(1)\n",
    "    env.render()\n",
    "    max_moves -= 1\n"
   ]
  },
  {
   "cell_type": "code",
   "execution_count": null,
   "id": "ff5d3f63",
   "metadata": {},
   "outputs": [],
   "source": []
  },
  {
   "cell_type": "code",
   "execution_count": 45,
   "id": "5419c7a9",
   "metadata": {},
   "outputs": [
    {
     "data": {
      "image/png": "[encoded data removed]",
      "text/plain": [
       "<Figure size 640x480 with 1 Axes>"
      ]
     },
     "metadata": {},
     "output_type": "display_data"
    },
    {
     "name": "stdout",
     "output_type": "stream",
     "text": [
      "State: 1, action: Right, Reward: -1\n",
      "\n",
      "State: 1, action: Up, Reward: 0\n",
      "\n",
      "State: 2, action: Right, Reward: 1\n",
      "\n",
      "State: 6, action: Down, Reward: -1\n",
      "\n",
      "State: 10, action: Down, Reward: -1\n",
      "\n",
      "State: 6, action: Up, Reward: -1\n",
      "\n",
      "State: 2, action: Up, Reward: 1\n",
      "\n",
      "State: 3, action: Right, Reward: -1\n",
      "\n",
      "State: 7, action: Down, Reward: -1\n",
      "\n",
      "State: 7, action: Right, Reward: 0\n",
      "\n"
     ]
    }
   ],
   "source": [
    "initial_pos = 0;\n",
    "env = GameEnvV1(4, 4, initial_pos)\n",
    "print(env.grid)\n",
    "agent = RandomAgent(initial_pos, list(env.action_space.keys()))\n",
    "env.reset()\n",
    "print(\" DETERMINISTIC ENVIRONMENT \")\n",
    "env.render()\n",
    "print(\"*********\\n\")\n",
    "trainAgent(agent, env, 10, 0.1)\n",
    "# env.render()"
   ]
  },
  {
   "cell_type": "markdown",
   "id": "e02d3ae0",
   "metadata": {},
   "source": [
    "## Stochastic environment below\n",
    "Not implemented properly yet. It's practically the same as above, just the step function is slightly different"
   ]
  },
  {
   "cell_type": "code",
   "execution_count": 93,
   "id": "7aed9c87",
   "metadata": {},
   "outputs": [],
   "source": [
    "class GameEnvV2(GameEnvV1):\n",
    "    def step(self, action):\n",
    "        if np.random.choice(4) == 0:\n",
    "            action = 'Stall'\n",
    "\n",
    "        return super().step(action)\n"
   ]
  },
  {
   "cell_type": "code",
   "execution_count": 94,
   "id": "d73f809f",
   "metadata": {},
   "outputs": [
    {
     "data": {
      "image/png": "[encoded data removed]",
      "text/plain": [
       "<Figure size 640x480 with 1 Axes>"
      ]
     },
     "metadata": {},
     "output_type": "display_data"
    },
    {
     "name": "stdout",
     "output_type": "stream",
     "text": [
      "*********\n",
      "\n"
     ]
    }
   ],
   "source": [
    "initial_pos = 0;\n",
    "env = GameEnvV2(4, 4, initial_pos)\n",
    "state_space = env.rows * env.cols\n",
    "agent = QAgent(initial_pos, state_space, len(list(env.action_space.keys())))\n",
    "env.reset()\n",
    "print(\" STOCHASTIC ENVIRONMENT \")\n",
    "env.render()\n",
    "print(\"*********\\n\")\n",
    "agent = q_learning(agent, env, 500, 0.1, 0.1, 0.9)\n",
    "# env.render()"
   ]
  },
  {
   "cell_type": "code",
   "execution_count": 95,
   "id": "2d048997",
   "metadata": {},
   "outputs": [
    {
     "data": {
      "image/png": "[encoded data removed]",
      "text/plain": [
       "<Figure size 640x480 with 1 Axes>"
      ]
     },
     "metadata": {},
     "output_type": "display_data"
    }
   ],
   "source": [
    "env.reset()\n",
    "env.render()\n",
    "agent.position = env.agent_position\n",
    "max_moves = 20\n",
    "while agent.position != (env.rows * env.cols) - 1 and max_moves > 0:\n",
    "    action_idx = agent.choose_action(0)\n",
    "    action = list(env.action_space.keys())[action_idx]\n",
    "    pos, reward, terminal, info = env.step(action)\n",
    "    agent.position = pos\n",
    "    print(f'Action taken: {action}')\n",
    "    time.sleep(1)\n",
    "    env.render()\n",
    "    max_moves -= 1\n"
   ]
  },
  {
   "cell_type": "code",
   "execution_count": null,
   "id": "c6e288d3",
   "metadata": {},
   "outputs": [],
   "source": []
  }
 ],
 "metadata": {
  "kernelspec": {
   "display_name": "Python 3 (ipykernel)",
   "language": "python",
   "name": "python3"
  },
  "language_info": {
   "codemirror_mode": {
    "name": "ipython",
    "version": 3
   },
   "file_extension": ".py",
   "mimetype": "text/x-python",
   "name": "python",
   "nbconvert_exporter": "python",
   "pygments_lexer": "ipython3",
   "version": "3.9.13"
  }
 },
 "nbformat": 4,
 "nbformat_minor": 5
}
